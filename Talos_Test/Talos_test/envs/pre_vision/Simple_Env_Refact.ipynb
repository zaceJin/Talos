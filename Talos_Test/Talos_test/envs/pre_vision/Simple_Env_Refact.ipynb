{
 "cells": [
  {
   "cell_type": "code",
   "execution_count": 1,
   "id": "1b1cb7a2",
   "metadata": {},
   "outputs": [],
   "source": [
    "import gym\n",
    "import numpy as np\n",
    "import math\n",
    "import pybullet as p\n",
    "from Talos_test.resources.Talos import Talos\n",
    "from Talos_test.resources.Plane import Plane"
   ]
  },
  {
   "cell_type": "code",
   "execution_count": null,
   "id": "b40a8dc0",
   "metadata": {},
   "outputs": [],
   "source": [
    "class Simple_Env(gym.Env):\n",
    "    metadata = {'render.modes': ['human']}\n",
    "    def __init__(self):\n",
    "        self.action_space = gym.spaces.box.Box(\n",
    "            low=-1,\n",
    "            high=1,\n",
    "            shape=(7,),       #7 joints for left_Arm (4-10)\n",
    "            dtype=np.float32  \n",
    "        )\n",
    "\n",
    "        self.observation_space = gym.spaces.box.Box(\n",
    "            low=-1,\n",
    "            high=1,\n",
    "            shape=(14,),    #7 joints Pos and 7 Joint Velocities\n",
    "            dtype=np.float32\n",
    "        )\n",
    "        \n",
    "        self.client = p.connect(p.GUI)\n",
    "        dt = 1e-3\n",
    "        p.setTimeStep(dt, self.client)\n",
    "        self.plane = Plane(self.client)\n",
    "        self.talos = Talos(self.client)\n",
    "        self.index_step = 0\n",
    "        self.HORIZON = 1000\n",
    "        # RESET\n",
    "        self.reset()\n",
    "        pass"
   ]
  },
  {
   "cell_type": "code",
   "execution_count": null,
   "id": "7c8f5318",
   "metadata": {},
   "outputs": [],
   "source": [
    "    def step(self, action):"
   ]
  },
  {
   "cell_type": "code",
   "execution_count": null,
   "id": "6b88f6bd",
   "metadata": {},
   "outputs": [],
   "source": [
    "    def reset(self):\n",
    "        p.resetBasePositionAndOrientation(self.talos.robotId, self.talos.robotStartPosition,self.talos.robotStartOrientation, self.client)\n",
    "        p.resetBaseVelocity(self.talos.robotId, [0.0,0.0,0.0],[0.0,0.0,0.0], self.client)\n",
    "        for i in self.talos.controlledJoints:\n",
    "            p.resetJointState(self.talos.robotId,i,  0.0, 0.0, self.client)\n",
    "        talos_ob = self.talos.get_observation()\n",
    "        self.index_step = 0\n",
    "        return np.array(talos_ob, dtype = np.float32)"
   ]
  },
  {
   "cell_type": "code",
   "execution_count": null,
   "id": "29895877",
   "metadata": {},
   "outputs": [],
   "source": [
    "    def render(self):\n",
    "        pass"
   ]
  },
  {
   "cell_type": "code",
   "execution_count": null,
   "id": "6f1de2ad",
   "metadata": {},
   "outputs": [],
   "source": [
    "    def close(self):\n",
    "        p.disconnect(self.client)"
   ]
  },
  {
   "cell_type": "code",
   "execution_count": null,
   "id": "bc783ffe",
   "metadata": {},
   "outputs": [],
   "source": [
    "    def getReward(self, jointPositions, JointVelocities, indexJoints, JointsTarget, action):\n",
    "        reward = 0\n",
    "        left_Arm_Pos = np.array([])\n",
    "        "
   ]
  },
  {
   "cell_type": "code",
   "execution_count": null,
   "id": "e74dfac2",
   "metadata": {},
   "outputs": [],
   "source": [
    "    def isJointsInBounds(self, joint_positions, indexJoints, bound_joints):\n",
    "        "
   ]
  },
  {
   "cell_type": "code",
   "execution_count": null,
   "id": "0b787444",
   "metadata": {},
   "outputs": [],
   "source": [
    "    def normalize_Action():\n",
    "        "
   ]
  },
  {
   "cell_type": "code",
   "execution_count": null,
   "id": "eff41e8b",
   "metadata": {},
   "outputs": [],
   "source": [
    "    def normalize_Obvervation():   "
   ]
  }
 ],
 "metadata": {
  "kernelspec": {
   "display_name": "Python 3",
   "language": "python",
   "name": "python3"
  },
  "language_info": {
   "codemirror_mode": {
    "name": "ipython",
    "version": 3
   },
   "file_extension": ".py",
   "mimetype": "text/x-python",
   "name": "python",
   "nbconvert_exporter": "python",
   "pygments_lexer": "ipython3",
   "version": "3.6.13"
  }
 },
 "nbformat": 4,
 "nbformat_minor": 5
}
